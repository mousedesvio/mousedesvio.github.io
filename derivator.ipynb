{
 "cells": [
  {
   "cell_type": "code",
   "execution_count": 1,
   "metadata": {},
   "outputs": [
    {
     "name": "stdout",
     "output_type": "stream",
     "text": [
      "RAIZ(((L^2*w^2 + R^2)^(-0,5) * inc_V)^2 + (-1,0*R*V/(L^2*w^2 + R^2)^1,5 * inc_R)^2 + (-1,0*L^2*V*w/(L^2*w^2 + R^2)^1,5 * inc_w)^2 + (-1,0*L*V*w^2/(L^2*w^2 + R^2)^1,5 * inc_L)^2)\n"
     ]
    }
   ],
   "source": [
    "from sympy import symbols, diff\n",
    "\n",
    "######################################################################################\n",
    "####################################NÃO MUDAR AQUI####################################\n",
    "def UncertaintyCalculator(symbolList, function):\n",
    "    f = function\n",
    "    finalFunction = ''\n",
    "    for i in range(len(symbolList)):\n",
    "        variable = symbols(symbolList[i])\n",
    "        f_prime = diff(f, variable)  # Calculate the derivative of f with respect to variable\n",
    "        if i != len(symbolList) - 1:\n",
    "            finalFunction += f'({f_prime} * inc_{symbolList[i]})**2 + '\n",
    "        else:\n",
    "            finalFunction += f'({f_prime} * inc_{symbolList[i]})**2'\n",
    "    \n",
    "    finalFunction = finalFunction.replace(\"**\", \"^\")\n",
    "    finalFunction = finalFunction.replace(\".\", \",\")\n",
    "    \n",
    "    return f'RAIZ({finalFunction})'\n",
    "####################################NÃO MUDAR AQUI####################################\n",
    "######################################################################################\n",
    "\n",
    "\n",
    "\n",
    "######################################################################################\n",
    "##############################TROCAR VARIÁVEIS E A FUNÇÃO#############################\n",
    "V = symbols('V')\n",
    "R = symbols('R')\n",
    "w = symbols('w')\n",
    "L = symbols('L')\n",
    "\n",
    "function = V/(R**2 + (w*L)**2)**(1/2)\n",
    "\n",
    "print(UncertaintyCalculator(['V','R', 'w', 'L'], function))  # Display the derivative"
   ]
  }
 ],
 "metadata": {
  "kernelspec": {
   "display_name": "myenv",
   "language": "python",
   "name": "python3"
  },
  "language_info": {
   "codemirror_mode": {
    "name": "ipython",
    "version": 3
   },
   "file_extension": ".py",
   "mimetype": "text/x-python",
   "name": "python",
   "nbconvert_exporter": "python",
   "pygments_lexer": "ipython3",
   "version": "3.10.11"
  }
 },
 "nbformat": 4,
 "nbformat_minor": 2
}
